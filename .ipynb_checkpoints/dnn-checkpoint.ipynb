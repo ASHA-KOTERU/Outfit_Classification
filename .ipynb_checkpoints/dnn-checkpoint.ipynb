{
 "cells": [
  {
   "cell_type": "code",
   "execution_count": 1,
   "id": "104ca193",
   "metadata": {},
   "outputs": [],
   "source": [
    "import pandas as pd\n",
    "import numpy as np\n",
    "import seaborn as sns\n",
    "import matplotlib.pylab as plt"
   ]
  },
  {
   "cell_type": "code",
   "execution_count": 2,
   "id": "f595f539",
   "metadata": {},
   "outputs": [],
   "source": [
    "cat_dict={}\n",
    "with open('category_id.txt') as f:\n",
    "    for line in f.readlines():\n",
    "        split = line.split(' ')\n",
    "        c_id=int(split[0])\n",
    "        name = ' '.join(split[1:])\n",
    "        cat_dict[c_id]=name.replace('\\n','')"
   ]
  },
  {
   "cell_type": "code",
   "execution_count": 3,
   "id": "7945be00",
   "metadata": {},
   "outputs": [
    {
     "data": {
      "text/html": [
       "<div>\n",
       "<style scoped>\n",
       "    .dataframe tbody tr th:only-of-type {\n",
       "        vertical-align: middle;\n",
       "    }\n",
       "\n",
       "    .dataframe tbody tr th {\n",
       "        vertical-align: top;\n",
       "    }\n",
       "\n",
       "    .dataframe thead th {\n",
       "        text-align: right;\n",
       "    }\n",
       "</style>\n",
       "<table border=\"1\" class=\"dataframe\">\n",
       "  <thead>\n",
       "    <tr style=\"text-align: right;\">\n",
       "      <th></th>\n",
       "      <th>Outfit_type</th>\n",
       "      <th>order_item_1</th>\n",
       "      <th>order_item_2</th>\n",
       "      <th>order_item_3</th>\n",
       "      <th>order_item_4</th>\n",
       "      <th>order_item_5</th>\n",
       "      <th>order_item_6</th>\n",
       "      <th>order_item_7</th>\n",
       "      <th>order_item_8</th>\n",
       "      <th>order_item_1_cat</th>\n",
       "      <th>order_item_2_cat</th>\n",
       "      <th>order_item_3_cat</th>\n",
       "      <th>order_item_4_cat</th>\n",
       "      <th>order_item_5_cat</th>\n",
       "      <th>order_item_6_cat</th>\n",
       "      <th>order_item_7_cat</th>\n",
       "      <th>order_item_8_cat</th>\n",
       "    </tr>\n",
       "  </thead>\n",
       "  <tbody>\n",
       "    <tr>\n",
       "      <th>0</th>\n",
       "      <td>1</td>\n",
       "      <td>yoins leather sexy v-neck sleeveless crop top</td>\n",
       "      <td>solid color long sleeve irregular blazer</td>\n",
       "      <td>alice+olivia floral pattern a-line skirt</td>\n",
       "      <td>zipped top chunky booties</td>\n",
       "      <td>gold boho turquoise leaf tassel earrings</td>\n",
       "      <td>etro heart locket necklace</td>\n",
       "      <td>1 flower mandala blue crystal clear phone case...</td>\n",
       "      <td>velvetines liquid matte lipstick</td>\n",
       "      <td>11</td>\n",
       "      <td>236</td>\n",
       "      <td>9</td>\n",
       "      <td>261</td>\n",
       "      <td>64</td>\n",
       "      <td>62</td>\n",
       "      <td>1967</td>\n",
       "      <td>200</td>\n",
       "    </tr>\n",
       "    <tr>\n",
       "      <th>1</th>\n",
       "      <td>0</td>\n",
       "      <td>ag jeans super skinny jeans</td>\n",
       "      <td>pompom beanie</td>\n",
       "      <td>mock neck sweater</td>\n",
       "      <td>zip quilted pilot jacket</td>\n",
       "      <td>tie faux leather short boots</td>\n",
       "      <td>pcs makeup brushes set pcs beauty blush brush ...</td>\n",
       "      <td>0</td>\n",
       "      <td>0</td>\n",
       "      <td>237</td>\n",
       "      <td>55</td>\n",
       "      <td>19</td>\n",
       "      <td>25</td>\n",
       "      <td>261</td>\n",
       "      <td>319</td>\n",
       "      <td>None</td>\n",
       "      <td>None</td>\n",
       "    </tr>\n",
       "    <tr>\n",
       "      <th>2</th>\n",
       "      <td>0</td>\n",
       "      <td>yoins plus size blue stripe shirt</td>\n",
       "      <td>yoins grey sleeveless faux fur coat</td>\n",
       "      <td>topshop moto dark indigo jamie jeans</td>\n",
       "      <td>yoins grey buckle design chunky heels short boots</td>\n",
       "      <td>wild side mini hair</td>\n",
       "      <td>bobbi brown peach</td>\n",
       "      <td>set</td>\n",
       "      <td>valentino small shoulder bag goop</td>\n",
       "      <td>11</td>\n",
       "      <td>24</td>\n",
       "      <td>237</td>\n",
       "      <td>261</td>\n",
       "      <td>58</td>\n",
       "      <td>188</td>\n",
       "      <td>171</td>\n",
       "      <td>37</td>\n",
       "    </tr>\n",
       "    <tr>\n",
       "      <th>3</th>\n",
       "      <td>1</td>\n",
       "      <td>boho brown pink print wood beaded halter summe...</td>\n",
       "      <td>steve madden women's sandals</td>\n",
       "      <td>boho suede fringe crossbody</td>\n",
       "      <td>yoins boho tassel drop earrings</td>\n",
       "      <td>simons boho weave floppy hat</td>\n",
       "      <td>0</td>\n",
       "      <td>0</td>\n",
       "      <td>0</td>\n",
       "      <td>4</td>\n",
       "      <td>46</td>\n",
       "      <td>37</td>\n",
       "      <td>64</td>\n",
       "      <td>55</td>\n",
       "      <td>None</td>\n",
       "      <td>None</td>\n",
       "      <td>None</td>\n",
       "    </tr>\n",
       "    <tr>\n",
       "      <th>4</th>\n",
       "      <td>0</td>\n",
       "      <td>yoins beige double breasted 0 outerwear</td>\n",
       "      <td>classic skinny jeans</td>\n",
       "      <td>sonia rykiel metallic striped knitted top</td>\n",
       "      <td>yoins apricot leather-look tote bag</td>\n",
       "      <td>yoins brown lace-up design sole short boots</td>\n",
       "      <td>miu miu heart sunglasses</td>\n",
       "      <td>ted baker crystal bow leather bracelet</td>\n",
       "      <td>sophie miller sterling silver black white cubi...</td>\n",
       "      <td>24</td>\n",
       "      <td>237</td>\n",
       "      <td>11</td>\n",
       "      <td>36</td>\n",
       "      <td>261</td>\n",
       "      <td>57</td>\n",
       "      <td>106</td>\n",
       "      <td>64</td>\n",
       "    </tr>\n",
       "  </tbody>\n",
       "</table>\n",
       "</div>"
      ],
      "text/plain": [
       "   Outfit_type                                       order_item_1  \\\n",
       "0            1      yoins leather sexy v-neck sleeveless crop top   \n",
       "1            0                        ag jeans super skinny jeans   \n",
       "2            0                  yoins plus size blue stripe shirt   \n",
       "3            1  boho brown pink print wood beaded halter summe...   \n",
       "4            0            yoins beige double breasted 0 outerwear   \n",
       "\n",
       "                               order_item_2  \\\n",
       "0  solid color long sleeve irregular blazer   \n",
       "1                             pompom beanie   \n",
       "2       yoins grey sleeveless faux fur coat   \n",
       "3              steve madden women's sandals   \n",
       "4                      classic skinny jeans   \n",
       "\n",
       "                                order_item_3  \\\n",
       "0   alice+olivia floral pattern a-line skirt   \n",
       "1                          mock neck sweater   \n",
       "2       topshop moto dark indigo jamie jeans   \n",
       "3                boho suede fringe crossbody   \n",
       "4  sonia rykiel metallic striped knitted top   \n",
       "\n",
       "                                        order_item_4  \\\n",
       "0                          zipped top chunky booties   \n",
       "1                           zip quilted pilot jacket   \n",
       "2  yoins grey buckle design chunky heels short boots   \n",
       "3                    yoins boho tassel drop earrings   \n",
       "4                yoins apricot leather-look tote bag   \n",
       "\n",
       "                                  order_item_5  \\\n",
       "0     gold boho turquoise leaf tassel earrings   \n",
       "1                 tie faux leather short boots   \n",
       "2                          wild side mini hair   \n",
       "3                 simons boho weave floppy hat   \n",
       "4  yoins brown lace-up design sole short boots   \n",
       "\n",
       "                                        order_item_6  \\\n",
       "0                         etro heart locket necklace   \n",
       "1  pcs makeup brushes set pcs beauty blush brush ...   \n",
       "2                                  bobbi brown peach   \n",
       "3                                                  0   \n",
       "4                           miu miu heart sunglasses   \n",
       "\n",
       "                                        order_item_7  \\\n",
       "0  1 flower mandala blue crystal clear phone case...   \n",
       "1                                                  0   \n",
       "2                                                set   \n",
       "3                                                  0   \n",
       "4             ted baker crystal bow leather bracelet   \n",
       "\n",
       "                                        order_item_8 order_item_1_cat  \\\n",
       "0                   velvetines liquid matte lipstick               11   \n",
       "1                                                  0              237   \n",
       "2                  valentino small shoulder bag goop               11   \n",
       "3                                                  0                4   \n",
       "4  sophie miller sterling silver black white cubi...               24   \n",
       "\n",
       "  order_item_2_cat order_item_3_cat order_item_4_cat order_item_5_cat  \\\n",
       "0              236                9              261               64   \n",
       "1               55               19               25              261   \n",
       "2               24              237              261               58   \n",
       "3               46               37               64               55   \n",
       "4              237               11               36              261   \n",
       "\n",
       "  order_item_6_cat order_item_7_cat order_item_8_cat  \n",
       "0               62             1967              200  \n",
       "1              319             None             None  \n",
       "2              188              171               37  \n",
       "3             None             None             None  \n",
       "4               57              106               64  "
      ]
     },
     "execution_count": 3,
     "metadata": {},
     "output_type": "execute_result"
    }
   ],
   "source": [
    "df = pd.read_csv('orders_data.csv')\n",
    "df.drop(['OrderId'],axis=1,inplace=True)\n",
    "\n",
    "for column in df.iloc[:,1:9]:\n",
    "    num = column.split('_')[-1]\n",
    "    df[[column,f'order_item_{num}_cat']] = df[column].str.split('__',expand=True)\n",
    "df.head()"
   ]
  },
  {
   "cell_type": "code",
   "execution_count": 4,
   "id": "95a331f6",
   "metadata": {},
   "outputs": [
    {
     "name": "stdout",
     "output_type": "stream",
     "text": [
      "Distribution of data labelwise\n"
     ]
    },
    {
     "data": {
      "text/plain": [
       "0    100\n",
       "1    100\n",
       "Name: Outfit_type, dtype: int64"
      ]
     },
     "execution_count": 4,
     "metadata": {},
     "output_type": "execute_result"
    }
   ],
   "source": [
    "print('Distribution of data labelwise')\n",
    "df['Outfit_type'].value_counts()"
   ]
  },
  {
   "cell_type": "raw",
   "id": "1bbfe731",
   "metadata": {},
   "source": [
    "Checking if categories has any impact on outfit_type/style"
   ]
  },
  {
   "cell_type": "code",
   "execution_count": 5,
   "id": "f791c1bf",
   "metadata": {},
   "outputs": [],
   "source": [
    "c1_df = df[df['Outfit_type']==1]\n",
    "b0_df = df[df['Outfit_type']==0]"
   ]
  },
  {
   "cell_type": "code",
   "execution_count": 6,
   "id": "d64310c5",
   "metadata": {},
   "outputs": [],
   "source": [
    "def get_frq_of_cat(df):\n",
    "    arr = df.iloc[:,9:17].to_numpy().flatten()\n",
    "    arr = [cat_dict[int(i)] for i in arr if i!=None]\n",
    "    print(f'Total number of orders:{len(arr)}')\n",
    "    temp_df = pd.DataFrame()\n",
    "    temp_df['categories']=arr\n",
    "    return temp_df.value_counts()"
   ]
  },
  {
   "cell_type": "code",
   "execution_count": 7,
   "id": "b5e27319",
   "metadata": {},
   "outputs": [
    {
     "name": "stdout",
     "output_type": "stream",
     "text": [
      "For casual style:\n",
      "Total number of orders:654\n",
      "\n",
      "For bohemian style:\n",
      "Total number of orders:658\n"
     ]
    }
   ],
   "source": [
    "print('For casual style:')\n",
    "c_value_counts= get_frq_of_cat(c1_df)\n",
    "print()\n",
    "print('For bohemian style:')\n",
    "b_value_counts = get_frq_of_cat(b0_df)"
   ]
  },
  {
   "cell_type": "code",
   "execution_count": 8,
   "id": "79e27873",
   "metadata": {},
   "outputs": [],
   "source": [
    "# def plot_catgeories(count_df,label):\n",
    "#     count_df = count_df[(count_df[label]>=10)]\n",
    "#     count_df = count_df.sort_values(label,ascending=False)\n",
    "#     count_df.plot(kind='bar',figsize=(20,10),title=f'frequently occuring words in {label} style')\n"
   ]
  },
  {
   "cell_type": "code",
   "execution_count": 9,
   "id": "2eae8461",
   "metadata": {},
   "outputs": [
    {
     "data": {
      "image/png": "[encoded data removed]",
      "text/plain": [
       "<Figure size 1440x720 with 1 Axes>"
      ]
     },
     "metadata": {
      "needs_background": "light"
     },
     "output_type": "display_data"
    }
   ],
   "source": [
    "count_df = pd.concat([b_value_counts,c_value_counts],axis=1)\n",
    "count_df.columns = ['bohemian','casual']\n",
    "count_df = count_df.fillna(0)\n",
    "\n",
    "count_df['diff'] = (count_df['bohemian']-count_df['casual'])/(count_df['bohemian']+count_df['casual'])\n",
    "\n",
    "cmap = plt.get_cmap('RdBu')\n",
    "\n",
    "req_range=np.round(np.arange(-0.1,0.1,0.01),2)\n",
    "count_df = count_df.round(2)\n",
    "temp = count_df[~(count_df['diff'].isin(req_range)) & ((count_df['casual']>10) | (count_df['bohemian']>10))]\n",
    "color = (temp['diff']+0.5).apply(cmap)\n",
    "\n",
    "title = ('<-- {} {} {} -->'.format('casual style',' ' * 80,'bohemian style'))\n",
    "_=temp['diff'].plot(kind='barh',figsize=(20,10),color=color,title=title)"
   ]
  },
  {
   "cell_type": "code",
   "execution_count": 10,
   "id": "059eebe1",
   "metadata": {},
   "outputs": [
    {
     "name": "stdout",
     "output_type": "stream",
     "text": [
      "Total number of categories in data:380\n"
     ]
    }
   ],
   "source": [
    "print(f'Total number of categories in data:{len(cat_dict)}')"
   ]
  },
  {
   "cell_type": "markdown",
   "id": "5bc5e804",
   "metadata": {},
   "source": [
    "from the above diagram we can see that categories like sandals,day dresses are mostly casual type and categories like sneakers,skinny jeans are bohemian style.Although there are 380 different categories, outfit_type specific categories are less than five for each type, so actually using the categories wouldn't make much difference"
   ]
  },
  {
   "cell_type": "code",
   "execution_count": 11,
   "id": "f3a01435",
   "metadata": {},
   "outputs": [
    {
     "data": {
      "text/html": [
       "<div>\n",
       "<style scoped>\n",
       "    .dataframe tbody tr th:only-of-type {\n",
       "        vertical-align: middle;\n",
       "    }\n",
       "\n",
       "    .dataframe tbody tr th {\n",
       "        vertical-align: top;\n",
       "    }\n",
       "\n",
       "    .dataframe thead th {\n",
       "        text-align: right;\n",
       "    }\n",
       "</style>\n",
       "<table border=\"1\" class=\"dataframe\">\n",
       "  <thead>\n",
       "    <tr style=\"text-align: right;\">\n",
       "      <th></th>\n",
       "      <th>Outfit_type</th>\n",
       "      <th>order_item_1</th>\n",
       "      <th>order_item_2</th>\n",
       "      <th>order_item_3</th>\n",
       "      <th>order_item_4</th>\n",
       "      <th>order_item_5</th>\n",
       "      <th>order_item_6</th>\n",
       "      <th>order_item_7</th>\n",
       "      <th>order_item_8</th>\n",
       "      <th>order_item_1_cat</th>\n",
       "      <th>order_item_2_cat</th>\n",
       "      <th>order_item_3_cat</th>\n",
       "      <th>order_item_4_cat</th>\n",
       "      <th>order_item_5_cat</th>\n",
       "      <th>order_item_6_cat</th>\n",
       "      <th>order_item_7_cat</th>\n",
       "      <th>order_item_8_cat</th>\n",
       "    </tr>\n",
       "  </thead>\n",
       "  <tbody>\n",
       "    <tr>\n",
       "      <th>0</th>\n",
       "      <td>1</td>\n",
       "      <td>yoins leather sexy v-neck sleeveless crop top</td>\n",
       "      <td>solid color long sleeve irregular blazer</td>\n",
       "      <td>alice+olivia floral pattern a-line skirt</td>\n",
       "      <td>zipped top chunky booties</td>\n",
       "      <td>gold boho turquoise leaf tassel earrings</td>\n",
       "      <td>etro heart locket necklace</td>\n",
       "      <td>1 flower mandala blue crystal clear phone case...</td>\n",
       "      <td>velvetines liquid matte lipstick</td>\n",
       "      <td>11</td>\n",
       "      <td>236</td>\n",
       "      <td>9</td>\n",
       "      <td>261</td>\n",
       "      <td>64</td>\n",
       "      <td>62</td>\n",
       "      <td>1967</td>\n",
       "      <td>200</td>\n",
       "    </tr>\n",
       "    <tr>\n",
       "      <th>1</th>\n",
       "      <td>0</td>\n",
       "      <td>ag jeans super skinny jeans</td>\n",
       "      <td>pompom beanie</td>\n",
       "      <td>mock neck sweater</td>\n",
       "      <td>zip quilted pilot jacket</td>\n",
       "      <td>tie faux leather short boots</td>\n",
       "      <td>pcs makeup brushes set pcs beauty blush brush ...</td>\n",
       "      <td>0</td>\n",
       "      <td>0</td>\n",
       "      <td>237</td>\n",
       "      <td>55</td>\n",
       "      <td>19</td>\n",
       "      <td>25</td>\n",
       "      <td>261</td>\n",
       "      <td>319</td>\n",
       "      <td>None</td>\n",
       "      <td>None</td>\n",
       "    </tr>\n",
       "    <tr>\n",
       "      <th>2</th>\n",
       "      <td>0</td>\n",
       "      <td>yoins plus size blue stripe shirt</td>\n",
       "      <td>yoins grey sleeveless faux fur coat</td>\n",
       "      <td>topshop moto dark indigo jamie jeans</td>\n",
       "      <td>yoins grey buckle design chunky heels short boots</td>\n",
       "      <td>wild side mini hair</td>\n",
       "      <td>bobbi brown peach</td>\n",
       "      <td>set</td>\n",
       "      <td>valentino small shoulder bag goop</td>\n",
       "      <td>11</td>\n",
       "      <td>24</td>\n",
       "      <td>237</td>\n",
       "      <td>261</td>\n",
       "      <td>58</td>\n",
       "      <td>188</td>\n",
       "      <td>171</td>\n",
       "      <td>37</td>\n",
       "    </tr>\n",
       "    <tr>\n",
       "      <th>3</th>\n",
       "      <td>1</td>\n",
       "      <td>boho brown pink print wood beaded halter summe...</td>\n",
       "      <td>steve madden women's sandals</td>\n",
       "      <td>boho suede fringe crossbody</td>\n",
       "      <td>yoins boho tassel drop earrings</td>\n",
       "      <td>simons boho weave floppy hat</td>\n",
       "      <td>0</td>\n",
       "      <td>0</td>\n",
       "      <td>0</td>\n",
       "      <td>4</td>\n",
       "      <td>46</td>\n",
       "      <td>37</td>\n",
       "      <td>64</td>\n",
       "      <td>55</td>\n",
       "      <td>None</td>\n",
       "      <td>None</td>\n",
       "      <td>None</td>\n",
       "    </tr>\n",
       "    <tr>\n",
       "      <th>4</th>\n",
       "      <td>0</td>\n",
       "      <td>yoins beige double breasted 0 outerwear</td>\n",
       "      <td>classic skinny jeans</td>\n",
       "      <td>sonia rykiel metallic striped knitted top</td>\n",
       "      <td>yoins apricot leather-look tote bag</td>\n",
       "      <td>yoins brown lace-up design sole short boots</td>\n",
       "      <td>miu miu heart sunglasses</td>\n",
       "      <td>ted baker crystal bow leather bracelet</td>\n",
       "      <td>sophie miller sterling silver black white cubi...</td>\n",
       "      <td>24</td>\n",
       "      <td>237</td>\n",
       "      <td>11</td>\n",
       "      <td>36</td>\n",
       "      <td>261</td>\n",
       "      <td>57</td>\n",
       "      <td>106</td>\n",
       "      <td>64</td>\n",
       "    </tr>\n",
       "  </tbody>\n",
       "</table>\n",
       "</div>"
      ],
      "text/plain": [
       "   Outfit_type                                       order_item_1  \\\n",
       "0            1      yoins leather sexy v-neck sleeveless crop top   \n",
       "1            0                        ag jeans super skinny jeans   \n",
       "2            0                  yoins plus size blue stripe shirt   \n",
       "3            1  boho brown pink print wood beaded halter summe...   \n",
       "4            0            yoins beige double breasted 0 outerwear   \n",
       "\n",
       "                               order_item_2  \\\n",
       "0  solid color long sleeve irregular blazer   \n",
       "1                             pompom beanie   \n",
       "2       yoins grey sleeveless faux fur coat   \n",
       "3              steve madden women's sandals   \n",
       "4                      classic skinny jeans   \n",
       "\n",
       "                                order_item_3  \\\n",
       "0   alice+olivia floral pattern a-line skirt   \n",
       "1                          mock neck sweater   \n",
       "2       topshop moto dark indigo jamie jeans   \n",
       "3                boho suede fringe crossbody   \n",
       "4  sonia rykiel metallic striped knitted top   \n",
       "\n",
       "                                        order_item_4  \\\n",
       "0                          zipped top chunky booties   \n",
       "1                           zip quilted pilot jacket   \n",
       "2  yoins grey buckle design chunky heels short boots   \n",
       "3                    yoins boho tassel drop earrings   \n",
       "4                yoins apricot leather-look tote bag   \n",
       "\n",
       "                                  order_item_5  \\\n",
       "0     gold boho turquoise leaf tassel earrings   \n",
       "1                 tie faux leather short boots   \n",
       "2                          wild side mini hair   \n",
       "3                 simons boho weave floppy hat   \n",
       "4  yoins brown lace-up design sole short boots   \n",
       "\n",
       "                                        order_item_6  \\\n",
       "0                         etro heart locket necklace   \n",
       "1  pcs makeup brushes set pcs beauty blush brush ...   \n",
       "2                                  bobbi brown peach   \n",
       "3                                                  0   \n",
       "4                           miu miu heart sunglasses   \n",
       "\n",
       "                                        order_item_7  \\\n",
       "0  1 flower mandala blue crystal clear phone case...   \n",
       "1                                                  0   \n",
       "2                                                set   \n",
       "3                                                  0   \n",
       "4             ted baker crystal bow leather bracelet   \n",
       "\n",
       "                                        order_item_8 order_item_1_cat  \\\n",
       "0                   velvetines liquid matte lipstick               11   \n",
       "1                                                  0              237   \n",
       "2                  valentino small shoulder bag goop               11   \n",
       "3                                                  0                4   \n",
       "4  sophie miller sterling silver black white cubi...               24   \n",
       "\n",
       "  order_item_2_cat order_item_3_cat order_item_4_cat order_item_5_cat  \\\n",
       "0              236                9              261               64   \n",
       "1               55               19               25              261   \n",
       "2               24              237              261               58   \n",
       "3               46               37               64               55   \n",
       "4              237               11               36              261   \n",
       "\n",
       "  order_item_6_cat order_item_7_cat order_item_8_cat  \n",
       "0               62             1967              200  \n",
       "1              319             None             None  \n",
       "2              188              171               37  \n",
       "3             None             None             None  \n",
       "4               57              106               64  "
      ]
     },
     "execution_count": 11,
     "metadata": {},
     "output_type": "execute_result"
    }
   ],
   "source": [
    "df.head()"
   ]
  },
  {
   "cell_type": "code",
   "execution_count": 12,
   "id": "fd43615f",
   "metadata": {},
   "outputs": [
    {
     "data": {
      "text/html": [
       "<div>\n",
       "<style scoped>\n",
       "    .dataframe tbody tr th:only-of-type {\n",
       "        vertical-align: middle;\n",
       "    }\n",
       "\n",
       "    .dataframe tbody tr th {\n",
       "        vertical-align: top;\n",
       "    }\n",
       "\n",
       "    .dataframe thead th {\n",
       "        text-align: right;\n",
       "    }\n",
       "</style>\n",
       "<table border=\"1\" class=\"dataframe\">\n",
       "  <thead>\n",
       "    <tr style=\"text-align: right;\">\n",
       "      <th></th>\n",
       "      <th>Outfit_type</th>\n",
       "      <th>order_item_1</th>\n",
       "      <th>order_item_2</th>\n",
       "      <th>order_item_3</th>\n",
       "      <th>order_item_4</th>\n",
       "      <th>order_item_5</th>\n",
       "      <th>order_item_6</th>\n",
       "      <th>order_item_7</th>\n",
       "      <th>order_item_8</th>\n",
       "      <th>order_item_1_cat</th>\n",
       "      <th>order_item_2_cat</th>\n",
       "      <th>order_item_3_cat</th>\n",
       "      <th>order_item_4_cat</th>\n",
       "      <th>order_item_5_cat</th>\n",
       "      <th>order_item_6_cat</th>\n",
       "      <th>order_item_7_cat</th>\n",
       "      <th>order_item_8_cat</th>\n",
       "    </tr>\n",
       "  </thead>\n",
       "  <tbody>\n",
       "    <tr>\n",
       "      <th>0</th>\n",
       "      <td>1</td>\n",
       "      <td>yoins leather sexy v-neck sleeveless crop top</td>\n",
       "      <td>solid color long sleeve irregular blazer</td>\n",
       "      <td>alice+olivia floral pattern a-line skirt</td>\n",
       "      <td>zipped top chunky booties</td>\n",
       "      <td>gold boho turquoise leaf tassel earrings</td>\n",
       "      <td>etro heart locket necklace</td>\n",
       "      <td>1 flower mandala blue crystal clear phone case...</td>\n",
       "      <td>velvetines liquid matte lipstick</td>\n",
       "      <td>11</td>\n",
       "      <td>236</td>\n",
       "      <td>9</td>\n",
       "      <td>261</td>\n",
       "      <td>64</td>\n",
       "      <td>62</td>\n",
       "      <td>1967</td>\n",
       "      <td>200</td>\n",
       "    </tr>\n",
       "    <tr>\n",
       "      <th>1</th>\n",
       "      <td>0</td>\n",
       "      <td>ag jeans super skinny jeans</td>\n",
       "      <td>pompom beanie</td>\n",
       "      <td>mock neck sweater</td>\n",
       "      <td>zip quilted pilot jacket</td>\n",
       "      <td>tie faux leather short boots</td>\n",
       "      <td>pcs makeup brushes set pcs beauty blush brush ...</td>\n",
       "      <td>0</td>\n",
       "      <td>0</td>\n",
       "      <td>237</td>\n",
       "      <td>55</td>\n",
       "      <td>19</td>\n",
       "      <td>25</td>\n",
       "      <td>261</td>\n",
       "      <td>319</td>\n",
       "      <td>None</td>\n",
       "      <td>None</td>\n",
       "    </tr>\n",
       "    <tr>\n",
       "      <th>2</th>\n",
       "      <td>0</td>\n",
       "      <td>yoins plus size blue stripe shirt</td>\n",
       "      <td>yoins grey sleeveless faux fur coat</td>\n",
       "      <td>topshop moto dark indigo jamie jeans</td>\n",
       "      <td>yoins grey buckle design chunky heels short boots</td>\n",
       "      <td>wild side mini hair</td>\n",
       "      <td>bobbi brown peach</td>\n",
       "      <td>set</td>\n",
       "      <td>valentino small shoulder bag goop</td>\n",
       "      <td>11</td>\n",
       "      <td>24</td>\n",
       "      <td>237</td>\n",
       "      <td>261</td>\n",
       "      <td>58</td>\n",
       "      <td>188</td>\n",
       "      <td>171</td>\n",
       "      <td>37</td>\n",
       "    </tr>\n",
       "    <tr>\n",
       "      <th>3</th>\n",
       "      <td>1</td>\n",
       "      <td>boho brown pink print wood beaded halter summe...</td>\n",
       "      <td>steve madden women's sandals</td>\n",
       "      <td>boho suede fringe crossbody</td>\n",
       "      <td>yoins boho tassel drop earrings</td>\n",
       "      <td>simons boho weave floppy hat</td>\n",
       "      <td>0</td>\n",
       "      <td>0</td>\n",
       "      <td>0</td>\n",
       "      <td>4</td>\n",
       "      <td>46</td>\n",
       "      <td>37</td>\n",
       "      <td>64</td>\n",
       "      <td>55</td>\n",
       "      <td>None</td>\n",
       "      <td>None</td>\n",
       "      <td>None</td>\n",
       "    </tr>\n",
       "    <tr>\n",
       "      <th>4</th>\n",
       "      <td>0</td>\n",
       "      <td>yoins beige double breasted 0 outerwear</td>\n",
       "      <td>classic skinny jeans</td>\n",
       "      <td>sonia rykiel metallic striped knitted top</td>\n",
       "      <td>yoins apricot leather-look tote bag</td>\n",
       "      <td>yoins brown lace-up design sole short boots</td>\n",
       "      <td>miu miu heart sunglasses</td>\n",
       "      <td>ted baker crystal bow leather bracelet</td>\n",
       "      <td>sophie miller sterling silver black white cubi...</td>\n",
       "      <td>24</td>\n",
       "      <td>237</td>\n",
       "      <td>11</td>\n",
       "      <td>36</td>\n",
       "      <td>261</td>\n",
       "      <td>57</td>\n",
       "      <td>106</td>\n",
       "      <td>64</td>\n",
       "    </tr>\n",
       "  </tbody>\n",
       "</table>\n",
       "</div>"
      ],
      "text/plain": [
       "   Outfit_type                                       order_item_1  \\\n",
       "0            1      yoins leather sexy v-neck sleeveless crop top   \n",
       "1            0                        ag jeans super skinny jeans   \n",
       "2            0                  yoins plus size blue stripe shirt   \n",
       "3            1  boho brown pink print wood beaded halter summe...   \n",
       "4            0            yoins beige double breasted 0 outerwear   \n",
       "\n",
       "                               order_item_2  \\\n",
       "0  solid color long sleeve irregular blazer   \n",
       "1                             pompom beanie   \n",
       "2       yoins grey sleeveless faux fur coat   \n",
       "3              steve madden women's sandals   \n",
       "4                      classic skinny jeans   \n",
       "\n",
       "                                order_item_3  \\\n",
       "0   alice+olivia floral pattern a-line skirt   \n",
       "1                          mock neck sweater   \n",
       "2       topshop moto dark indigo jamie jeans   \n",
       "3                boho suede fringe crossbody   \n",
       "4  sonia rykiel metallic striped knitted top   \n",
       "\n",
       "                                        order_item_4  \\\n",
       "0                          zipped top chunky booties   \n",
       "1                           zip quilted pilot jacket   \n",
       "2  yoins grey buckle design chunky heels short boots   \n",
       "3                    yoins boho tassel drop earrings   \n",
       "4                yoins apricot leather-look tote bag   \n",
       "\n",
       "                                  order_item_5  \\\n",
       "0     gold boho turquoise leaf tassel earrings   \n",
       "1                 tie faux leather short boots   \n",
       "2                          wild side mini hair   \n",
       "3                 simons boho weave floppy hat   \n",
       "4  yoins brown lace-up design sole short boots   \n",
       "\n",
       "                                        order_item_6  \\\n",
       "0                         etro heart locket necklace   \n",
       "1  pcs makeup brushes set pcs beauty blush brush ...   \n",
       "2                                  bobbi brown peach   \n",
       "3                                                  0   \n",
       "4                           miu miu heart sunglasses   \n",
       "\n",
       "                                        order_item_7  \\\n",
       "0  1 flower mandala blue crystal clear phone case...   \n",
       "1                                                  0   \n",
       "2                                                set   \n",
       "3                                                  0   \n",
       "4             ted baker crystal bow leather bracelet   \n",
       "\n",
       "                                        order_item_8 order_item_1_cat  \\\n",
       "0                   velvetines liquid matte lipstick               11   \n",
       "1                                                  0              237   \n",
       "2                  valentino small shoulder bag goop               11   \n",
       "3                                                  0                4   \n",
       "4  sophie miller sterling silver black white cubi...               24   \n",
       "\n",
       "  order_item_2_cat order_item_3_cat order_item_4_cat order_item_5_cat  \\\n",
       "0              236                9              261               64   \n",
       "1               55               19               25              261   \n",
       "2               24              237              261               58   \n",
       "3               46               37               64               55   \n",
       "4              237               11               36              261   \n",
       "\n",
       "  order_item_6_cat order_item_7_cat order_item_8_cat  \n",
       "0               62             1967              200  \n",
       "1              319             None             None  \n",
       "2              188              171               37  \n",
       "3             None             None             None  \n",
       "4               57              106               64  "
      ]
     },
     "execution_count": 12,
     "metadata": {},
     "output_type": "execute_result"
    }
   ],
   "source": [
    "df.head()"
   ]
  },
  {
   "cell_type": "code",
   "execution_count": 13,
   "id": "98b02d45",
   "metadata": {},
   "outputs": [],
   "source": [
    "from nltk.stem import PorterStemmer\n",
    "ps = PorterStemmer()"
   ]
  },
  {
   "cell_type": "code",
   "execution_count": 14,
   "id": "cda9689c",
   "metadata": {},
   "outputs": [],
   "source": [
    "def stem_sent(sentence):\n",
    "    words = sentence.split(' ')\n",
    "    words = [ps.stem(word) for word in words]\n",
    "    return ' '.join(words)"
   ]
  },
  {
   "cell_type": "code",
   "execution_count": 15,
   "id": "5fc53d0d",
   "metadata": {},
   "outputs": [],
   "source": [
    "corpus = df.iloc[:,1:9].to_numpy().flatten()\n",
    "corpus_lemmatized = [stem_sent(i) for i in corpus if i!='0']"
   ]
  },
  {
   "cell_type": "code",
   "execution_count": 16,
   "id": "66834306",
   "metadata": {},
   "outputs": [
    {
     "data": {
      "text/plain": [
       "CountVectorizer()"
      ]
     },
     "execution_count": 16,
     "metadata": {},
     "output_type": "execute_result"
    }
   ],
   "source": [
    "from sklearn.feature_extraction.text import CountVectorizer\n",
    "vectorizer = CountVectorizer()\n",
    "vectorizer.fit(corpus_lemmatized)\n"
   ]
  },
  {
   "cell_type": "code",
   "execution_count": 1,
   "id": "a6bd918e",
   "metadata": {},
   "outputs": [],
   "source": [
    "# sorted(vectorizer.vocabulary_.items(), key=lambda x: x[1],reverse=True)"
   ]
  },
  {
   "cell_type": "code",
   "execution_count": 18,
   "id": "5cfdabd9",
   "metadata": {},
   "outputs": [
    {
     "data": {
      "text/plain": [
       "TfidfVectorizer()"
      ]
     },
     "execution_count": 18,
     "metadata": {},
     "output_type": "execute_result"
    }
   ],
   "source": [
    "from sklearn.feature_extraction.text import TfidfVectorizer\n",
    "tf_vectorizer = TfidfVectorizer()\n",
    "tf_vectorizer.fit(corpus_lemmatized)"
   ]
  },
  {
   "cell_type": "code",
   "execution_count": 19,
   "id": "9b622e85",
   "metadata": {},
   "outputs": [],
   "source": [
    "def get_vec(sent):\n",
    "    return tf_vectorizer.transform([sent]).todense().squeeze()"
   ]
  },
  {
   "cell_type": "code",
   "execution_count": 20,
   "id": "d89adb4f",
   "metadata": {},
   "outputs": [],
   "source": [
    "for column in df.iloc[:,1:9]:\n",
    "    temp = df[column].apply(get_vec)\n",
    "    num = column.split('_')[-1]\n",
    "    df[f'order_item_{num}_vec']=temp\n",
    "    "
   ]
  },
  {
   "cell_type": "code",
   "execution_count": 21,
   "id": "1302e14a",
   "metadata": {},
   "outputs": [],
   "source": [
    "vec_size = df['order_item_1_vec'][0].shape[1]"
   ]
  },
  {
   "cell_type": "code",
   "execution_count": 22,
   "id": "ee4c26a2",
   "metadata": {},
   "outputs": [
    {
     "data": {
      "text/plain": [
       "1705200"
      ]
     },
     "execution_count": 22,
     "metadata": {},
     "output_type": "execute_result"
    }
   ],
   "source": [
    "200*6*vec_size"
   ]
  },
  {
   "cell_type": "code",
   "execution_count": 23,
   "id": "c08aef7b",
   "metadata": {},
   "outputs": [
    {
     "data": {
      "text/html": [
       "<div>\n",
       "<style scoped>\n",
       "    .dataframe tbody tr th:only-of-type {\n",
       "        vertical-align: middle;\n",
       "    }\n",
       "\n",
       "    .dataframe tbody tr th {\n",
       "        vertical-align: top;\n",
       "    }\n",
       "\n",
       "    .dataframe thead th {\n",
       "        text-align: right;\n",
       "    }\n",
       "</style>\n",
       "<table border=\"1\" class=\"dataframe\">\n",
       "  <thead>\n",
       "    <tr style=\"text-align: right;\">\n",
       "      <th></th>\n",
       "      <th>order_item_1_vec</th>\n",
       "      <th>order_item_2_vec</th>\n",
       "      <th>order_item_3_vec</th>\n",
       "      <th>order_item_4_vec</th>\n",
       "      <th>order_item_5_vec</th>\n",
       "      <th>order_item_6_vec</th>\n",
       "      <th>order_item_7_vec</th>\n",
       "      <th>order_item_8_vec</th>\n",
       "    </tr>\n",
       "  </thead>\n",
       "  <tbody>\n",
       "    <tr>\n",
       "      <th>0</th>\n",
       "      <td>[[[[[0. 0. 0. ... 0. 0. 0.]]]]]</td>\n",
       "      <td>[[[[[0. 0. 0. ... 0. 0. 0.]]]]]</td>\n",
       "      <td>[[[[[0. 0. 0. ... 0. 0. 0.]]]]]</td>\n",
       "      <td>[[[[[0. 0. 0. ... 0. 0. 0.]]]]]</td>\n",
       "      <td>[[[[[0. 0. 0. ... 0. 0. 0.]]]]]</td>\n",
       "      <td>[[[[[0. 0. 0. ... 0. 0. 0.]]]]]</td>\n",
       "      <td>[[[[[0. 0. 0. ... 0. 0. 0.]]]]]</td>\n",
       "      <td>[[[[[0. 0. 0. ... 0. 0. 0.]]]]]</td>\n",
       "    </tr>\n",
       "    <tr>\n",
       "      <th>1</th>\n",
       "      <td>[[[[[0. 0. 0. ... 0. 0. 0.]]]]]</td>\n",
       "      <td>[[[[[0. 0. 0. ... 0. 0. 0.]]]]]</td>\n",
       "      <td>[[[[[0. 0. 0. ... 0. 0. 0.]]]]]</td>\n",
       "      <td>[[[[[0. 0. 0. ... 0. 0. 0.]]]]]</td>\n",
       "      <td>[[[[[0. 0. 0. ... 0. 0. 0.]]]]]</td>\n",
       "      <td>[[[[[0. 0. 0. ... 0. 0. 0.]]]]]</td>\n",
       "      <td>[[[[[0. 0. 0. ... 0. 0. 0.]]]]]</td>\n",
       "      <td>[[[[[0. 0. 0. ... 0. 0. 0.]]]]]</td>\n",
       "    </tr>\n",
       "    <tr>\n",
       "      <th>2</th>\n",
       "      <td>[[[[[0. 0. 0. ... 0. 0. 0.]]]]]</td>\n",
       "      <td>[[[[[0. 0. 0. ... 0. 0. 0.]]]]]</td>\n",
       "      <td>[[[[[0. 0. 0. ... 0. 0. 0.]]]]]</td>\n",
       "      <td>[[[[[0. 0. 0. ... 0. 0. 0.]]]]]</td>\n",
       "      <td>[[[[[0. 0. 0. ... 0. 0. 0.]]]]]</td>\n",
       "      <td>[[[[[0. 0. 0. ... 0. 0. 0.]]]]]</td>\n",
       "      <td>[[[[[0. 0. 0. ... 0. 0. 0.]]]]]</td>\n",
       "      <td>[[[[[0. 0. 0. ... 0. 0. 0.]]]]]</td>\n",
       "    </tr>\n",
       "    <tr>\n",
       "      <th>3</th>\n",
       "      <td>[[[[[0. 0. 0. ... 0. 0. 0.]]]]]</td>\n",
       "      <td>[[[[[0. 0. 0. ... 0. 0. 0.]]]]]</td>\n",
       "      <td>[[[[[0. 0. 0. ... 0. 0. 0.]]]]]</td>\n",
       "      <td>[[[[[0. 0. 0. ... 0. 0. 0.]]]]]</td>\n",
       "      <td>[[[[[0. 0. 0. ... 0. 0. 0.]]]]]</td>\n",
       "      <td>[[[[[0. 0. 0. ... 0. 0. 0.]]]]]</td>\n",
       "      <td>[[[[[0. 0. 0. ... 0. 0. 0.]]]]]</td>\n",
       "      <td>[[[[[0. 0. 0. ... 0. 0. 0.]]]]]</td>\n",
       "    </tr>\n",
       "    <tr>\n",
       "      <th>4</th>\n",
       "      <td>[[[[[0. 0. 0. ... 0. 0. 0.]]]]]</td>\n",
       "      <td>[[[[[0. 0. 0. ... 0. 0. 0.]]]]]</td>\n",
       "      <td>[[[[[0. 0. 0. ... 0. 0. 0.]]]]]</td>\n",
       "      <td>[[[[[0. 0. 0. ... 0. 0. 0.]]]]]</td>\n",
       "      <td>[[[[[0. 0. 0. ... 0. 0. 0.]]]]]</td>\n",
       "      <td>[[[[[0. 0. 0. ... 0. 0. 0.]]]]]</td>\n",
       "      <td>[[[[[0. 0. 0. ... 0. 0. 0.]]]]]</td>\n",
       "      <td>[[[[[0.        0.        0.        ... 0.     ...</td>\n",
       "    </tr>\n",
       "    <tr>\n",
       "      <th>...</th>\n",
       "      <td>...</td>\n",
       "      <td>...</td>\n",
       "      <td>...</td>\n",
       "      <td>...</td>\n",
       "      <td>...</td>\n",
       "      <td>...</td>\n",
       "      <td>...</td>\n",
       "      <td>...</td>\n",
       "    </tr>\n",
       "    <tr>\n",
       "      <th>195</th>\n",
       "      <td>[[[[[0. 0. 0. ... 0. 0. 0.]]]]]</td>\n",
       "      <td>[[[[[0. 0. 0. ... 0. 0. 0.]]]]]</td>\n",
       "      <td>[[[[[0. 0. 0. ... 0. 0. 0.]]]]]</td>\n",
       "      <td>[[[[[0. 0. 0. ... 0. 0. 0.]]]]]</td>\n",
       "      <td>[[[[[0. 0. 0. ... 0. 0. 0.]]]]]</td>\n",
       "      <td>[[[[[0. 0. 0. ... 0. 0. 0.]]]]]</td>\n",
       "      <td>[[[[[0. 0. 0. ... 0. 0. 0.]]]]]</td>\n",
       "      <td>[[[[[0. 0. 0. ... 0. 0. 0.]]]]]</td>\n",
       "    </tr>\n",
       "    <tr>\n",
       "      <th>196</th>\n",
       "      <td>[[[[[0. 0. 0. ... 0. 0. 0.]]]]]</td>\n",
       "      <td>[[[[[0. 0. 0. ... 0. 0. 0.]]]]]</td>\n",
       "      <td>[[[[[0. 0. 0. ... 0. 0. 0.]]]]]</td>\n",
       "      <td>[[[[[0. 0. 0. ... 0. 0. 0.]]]]]</td>\n",
       "      <td>[[[[[0. 0. 0. ... 0. 0. 0.]]]]]</td>\n",
       "      <td>[[[[[0. 0. 0. ... 0. 0. 0.]]]]]</td>\n",
       "      <td>[[[[[0. 0. 0. ... 0. 0. 0.]]]]]</td>\n",
       "      <td>[[[[[0. 0. 0. ... 0. 0. 0.]]]]]</td>\n",
       "    </tr>\n",
       "    <tr>\n",
       "      <th>197</th>\n",
       "      <td>[[[[[0. 0. 0. ... 0. 0. 0.]]]]]</td>\n",
       "      <td>[[[[[0. 0. 0. ... 0. 0. 0.]]]]]</td>\n",
       "      <td>[[[[[0. 0. 0. ... 0. 0. 0.]]]]]</td>\n",
       "      <td>[[[[[0. 0. 0. ... 0. 0. 0.]]]]]</td>\n",
       "      <td>[[[[[0. 0. 0. ... 0. 0. 0.]]]]]</td>\n",
       "      <td>[[[[[0. 0. 0. ... 0. 0. 0.]]]]]</td>\n",
       "      <td>[[[[[0. 0. 0. ... 0. 0. 0.]]]]]</td>\n",
       "      <td>[[[[[0. 0. 0. ... 0. 0. 0.]]]]]</td>\n",
       "    </tr>\n",
       "    <tr>\n",
       "      <th>198</th>\n",
       "      <td>[[[[[0. 0. 0. ... 0. 0. 0.]]]]]</td>\n",
       "      <td>[[[[[0. 0. 0. ... 0. 0. 0.]]]]]</td>\n",
       "      <td>[[[[[0. 0. 0. ... 0. 0. 0.]]]]]</td>\n",
       "      <td>[[[[[0. 0. 0. ... 0. 0. 0.]]]]]</td>\n",
       "      <td>[[[[[0. 0. 0. ... 0. 0. 0.]]]]]</td>\n",
       "      <td>[[[[[0. 0. 0. ... 0. 0. 0.]]]]]</td>\n",
       "      <td>[[[[[0. 0. 0. ... 0. 0. 0.]]]]]</td>\n",
       "      <td>[[[[[0. 0. 0. ... 0. 0. 0.]]]]]</td>\n",
       "    </tr>\n",
       "    <tr>\n",
       "      <th>199</th>\n",
       "      <td>[[[[[0. 0. 0. ... 0. 0. 0.]]]]]</td>\n",
       "      <td>[[[[[0. 0. 0. ... 0. 0. 0.]]]]]</td>\n",
       "      <td>[[[[[0. 0. 0. ... 0. 0. 0.]]]]]</td>\n",
       "      <td>[[[[[0. 0. 0. ... 0. 0. 0.]]]]]</td>\n",
       "      <td>[[[[[0. 0. 0. ... 0. 0. 0.]]]]]</td>\n",
       "      <td>[[[[[0. 0. 0. ... 0. 0. 0.]]]]]</td>\n",
       "      <td>[[[[[0. 0. 0. ... 0. 0. 0.]]]]]</td>\n",
       "      <td>[[[[[0. 0. 0. ... 0. 0. 0.]]]]]</td>\n",
       "    </tr>\n",
       "  </tbody>\n",
       "</table>\n",
       "<p>200 rows × 8 columns</p>\n",
       "</div>"
      ],
      "text/plain": [
       "                    order_item_1_vec                 order_item_2_vec  \\\n",
       "0    [[[[[0. 0. 0. ... 0. 0. 0.]]]]]  [[[[[0. 0. 0. ... 0. 0. 0.]]]]]   \n",
       "1    [[[[[0. 0. 0. ... 0. 0. 0.]]]]]  [[[[[0. 0. 0. ... 0. 0. 0.]]]]]   \n",
       "2    [[[[[0. 0. 0. ... 0. 0. 0.]]]]]  [[[[[0. 0. 0. ... 0. 0. 0.]]]]]   \n",
       "3    [[[[[0. 0. 0. ... 0. 0. 0.]]]]]  [[[[[0. 0. 0. ... 0. 0. 0.]]]]]   \n",
       "4    [[[[[0. 0. 0. ... 0. 0. 0.]]]]]  [[[[[0. 0. 0. ... 0. 0. 0.]]]]]   \n",
       "..                               ...                              ...   \n",
       "195  [[[[[0. 0. 0. ... 0. 0. 0.]]]]]  [[[[[0. 0. 0. ... 0. 0. 0.]]]]]   \n",
       "196  [[[[[0. 0. 0. ... 0. 0. 0.]]]]]  [[[[[0. 0. 0. ... 0. 0. 0.]]]]]   \n",
       "197  [[[[[0. 0. 0. ... 0. 0. 0.]]]]]  [[[[[0. 0. 0. ... 0. 0. 0.]]]]]   \n",
       "198  [[[[[0. 0. 0. ... 0. 0. 0.]]]]]  [[[[[0. 0. 0. ... 0. 0. 0.]]]]]   \n",
       "199  [[[[[0. 0. 0. ... 0. 0. 0.]]]]]  [[[[[0. 0. 0. ... 0. 0. 0.]]]]]   \n",
       "\n",
       "                    order_item_3_vec                 order_item_4_vec  \\\n",
       "0    [[[[[0. 0. 0. ... 0. 0. 0.]]]]]  [[[[[0. 0. 0. ... 0. 0. 0.]]]]]   \n",
       "1    [[[[[0. 0. 0. ... 0. 0. 0.]]]]]  [[[[[0. 0. 0. ... 0. 0. 0.]]]]]   \n",
       "2    [[[[[0. 0. 0. ... 0. 0. 0.]]]]]  [[[[[0. 0. 0. ... 0. 0. 0.]]]]]   \n",
       "3    [[[[[0. 0. 0. ... 0. 0. 0.]]]]]  [[[[[0. 0. 0. ... 0. 0. 0.]]]]]   \n",
       "4    [[[[[0. 0. 0. ... 0. 0. 0.]]]]]  [[[[[0. 0. 0. ... 0. 0. 0.]]]]]   \n",
       "..                               ...                              ...   \n",
       "195  [[[[[0. 0. 0. ... 0. 0. 0.]]]]]  [[[[[0. 0. 0. ... 0. 0. 0.]]]]]   \n",
       "196  [[[[[0. 0. 0. ... 0. 0. 0.]]]]]  [[[[[0. 0. 0. ... 0. 0. 0.]]]]]   \n",
       "197  [[[[[0. 0. 0. ... 0. 0. 0.]]]]]  [[[[[0. 0. 0. ... 0. 0. 0.]]]]]   \n",
       "198  [[[[[0. 0. 0. ... 0. 0. 0.]]]]]  [[[[[0. 0. 0. ... 0. 0. 0.]]]]]   \n",
       "199  [[[[[0. 0. 0. ... 0. 0. 0.]]]]]  [[[[[0. 0. 0. ... 0. 0. 0.]]]]]   \n",
       "\n",
       "                    order_item_5_vec                 order_item_6_vec  \\\n",
       "0    [[[[[0. 0. 0. ... 0. 0. 0.]]]]]  [[[[[0. 0. 0. ... 0. 0. 0.]]]]]   \n",
       "1    [[[[[0. 0. 0. ... 0. 0. 0.]]]]]  [[[[[0. 0. 0. ... 0. 0. 0.]]]]]   \n",
       "2    [[[[[0. 0. 0. ... 0. 0. 0.]]]]]  [[[[[0. 0. 0. ... 0. 0. 0.]]]]]   \n",
       "3    [[[[[0. 0. 0. ... 0. 0. 0.]]]]]  [[[[[0. 0. 0. ... 0. 0. 0.]]]]]   \n",
       "4    [[[[[0. 0. 0. ... 0. 0. 0.]]]]]  [[[[[0. 0. 0. ... 0. 0. 0.]]]]]   \n",
       "..                               ...                              ...   \n",
       "195  [[[[[0. 0. 0. ... 0. 0. 0.]]]]]  [[[[[0. 0. 0. ... 0. 0. 0.]]]]]   \n",
       "196  [[[[[0. 0. 0. ... 0. 0. 0.]]]]]  [[[[[0. 0. 0. ... 0. 0. 0.]]]]]   \n",
       "197  [[[[[0. 0. 0. ... 0. 0. 0.]]]]]  [[[[[0. 0. 0. ... 0. 0. 0.]]]]]   \n",
       "198  [[[[[0. 0. 0. ... 0. 0. 0.]]]]]  [[[[[0. 0. 0. ... 0. 0. 0.]]]]]   \n",
       "199  [[[[[0. 0. 0. ... 0. 0. 0.]]]]]  [[[[[0. 0. 0. ... 0. 0. 0.]]]]]   \n",
       "\n",
       "                    order_item_7_vec  \\\n",
       "0    [[[[[0. 0. 0. ... 0. 0. 0.]]]]]   \n",
       "1    [[[[[0. 0. 0. ... 0. 0. 0.]]]]]   \n",
       "2    [[[[[0. 0. 0. ... 0. 0. 0.]]]]]   \n",
       "3    [[[[[0. 0. 0. ... 0. 0. 0.]]]]]   \n",
       "4    [[[[[0. 0. 0. ... 0. 0. 0.]]]]]   \n",
       "..                               ...   \n",
       "195  [[[[[0. 0. 0. ... 0. 0. 0.]]]]]   \n",
       "196  [[[[[0. 0. 0. ... 0. 0. 0.]]]]]   \n",
       "197  [[[[[0. 0. 0. ... 0. 0. 0.]]]]]   \n",
       "198  [[[[[0. 0. 0. ... 0. 0. 0.]]]]]   \n",
       "199  [[[[[0. 0. 0. ... 0. 0. 0.]]]]]   \n",
       "\n",
       "                                      order_item_8_vec  \n",
       "0                      [[[[[0. 0. 0. ... 0. 0. 0.]]]]]  \n",
       "1                      [[[[[0. 0. 0. ... 0. 0. 0.]]]]]  \n",
       "2                      [[[[[0. 0. 0. ... 0. 0. 0.]]]]]  \n",
       "3                      [[[[[0. 0. 0. ... 0. 0. 0.]]]]]  \n",
       "4    [[[[[0.        0.        0.        ... 0.     ...  \n",
       "..                                                 ...  \n",
       "195                    [[[[[0. 0. 0. ... 0. 0. 0.]]]]]  \n",
       "196                    [[[[[0. 0. 0. ... 0. 0. 0.]]]]]  \n",
       "197                    [[[[[0. 0. 0. ... 0. 0. 0.]]]]]  \n",
       "198                    [[[[[0. 0. 0. ... 0. 0. 0.]]]]]  \n",
       "199                    [[[[[0. 0. 0. ... 0. 0. 0.]]]]]  \n",
       "\n",
       "[200 rows x 8 columns]"
      ]
     },
     "execution_count": 23,
     "metadata": {},
     "output_type": "execute_result"
    }
   ],
   "source": [
    "df.iloc[:,17:28]"
   ]
  },
  {
   "cell_type": "code",
   "execution_count": 25,
   "id": "9d5fdf49",
   "metadata": {},
   "outputs": [
    {
     "name": "stdout",
     "output_type": "stream",
     "text": [
      "(200, 8) (1, 1421)\n",
      "(1, 2273600)\n",
      "(200, 8, 1421)\n"
     ]
    }
   ],
   "source": [
    "X = df.iloc[:,17:28].values\n",
    "print(X.shape,X[0][0].shape)\n",
    "X = np.hstack(X)\n",
    "X = np.hstack(X)\n",
    "X = np.array(X)\n",
    "print(X.shape)\n",
    "X = np.reshape(X,(200,8,vec_size))\n",
    "print(X.shape)"
   ]
  },
  {
   "cell_type": "code",
   "execution_count": 26,
   "id": "897de425",
   "metadata": {},
   "outputs": [],
   "source": [
    "y = df['Outfit_type'].values"
   ]
  },
  {
   "cell_type": "code",
   "execution_count": 27,
   "id": "795c5d32",
   "metadata": {},
   "outputs": [],
   "source": [
    "from sklearn.model_selection import train_test_split\n",
    "x_train,x_test,y_train,y_test = train_test_split(X,y,random_state=300,test_size=0.25)"
   ]
  },
  {
   "cell_type": "code",
   "execution_count": 28,
   "id": "70c52bf5",
   "metadata": {},
   "outputs": [
    {
     "data": {
      "text/plain": [
       "25"
      ]
     },
     "execution_count": 28,
     "metadata": {},
     "output_type": "execute_result"
    }
   ],
   "source": [
    "np.sum(y_test)"
   ]
  },
  {
   "cell_type": "code",
   "execution_count": 29,
   "id": "2d9ac11b",
   "metadata": {},
   "outputs": [
    {
     "data": {
      "text/plain": [
       "((150, 8, 1421), (150,), (50, 8, 1421), (50,))"
      ]
     },
     "execution_count": 29,
     "metadata": {},
     "output_type": "execute_result"
    }
   ],
   "source": [
    "x_train.shape,y_train.shape,x_test.shape,y_test.shape"
   ]
  },
  {
   "cell_type": "code",
   "execution_count": 30,
   "id": "93383319",
   "metadata": {},
   "outputs": [
    {
     "data": {
      "text/plain": [
       "(200, 8, 1421)"
      ]
     },
     "execution_count": 30,
     "metadata": {},
     "output_type": "execute_result"
    }
   ],
   "source": [
    "X.shape"
   ]
  },
  {
   "cell_type": "code",
   "execution_count": 31,
   "id": "0eaebf28",
   "metadata": {},
   "outputs": [],
   "source": [
    "from keras.models import Sequential\n",
    "from keras import layers\n",
    "from keras.preprocessing.text import Tokenizer\n",
    "from keras.preprocessing.sequence import pad_sequences\n",
    "from keras.wrappers.scikit_learn import KerasClassifier\n",
    "from keras import optimizers\n"
   ]
  },
  {
   "cell_type": "code",
   "execution_count": 45,
   "id": "462288f9",
   "metadata": {},
   "outputs": [],
   "source": [
    "def create_model(num_filters, kernel_size):\n",
    "    model = Sequential()\n",
    "    model.add(layers.Conv1D(num_filters, kernel_size, activation='relu'))\n",
    "    model.add(layers.GlobalMaxPooling1D())\n",
    "    model.add(layers.Dense(10, activation='relu'))\n",
    "    model.add(layers.Dropout(0.6))\n",
    "    model.add(layers.Dense(1, activation='sigmoid'))\n",
    "    opt = optimizers.Adam()\n",
    "    model.compile(optimizer=opt,\n",
    "                  loss='binary_crossentropy',\n",
    "                  metrics=['accuracy'])\n",
    "    return model"
   ]
  },
  {
   "cell_type": "code",
   "execution_count": 33,
   "id": "2214b17c",
   "metadata": {},
   "outputs": [],
   "source": [
    "from sklearn.model_selection import RandomizedSearchCV,GridSearchCV\n"
   ]
  },
  {
   "cell_type": "code",
   "execution_count": 48,
   "id": "2e874db1",
   "metadata": {},
   "outputs": [
    {
     "name": "stdout",
     "output_type": "stream",
     "text": [
      "Fitting 15 folds for each of 9 candidates, totalling 135 fits\n",
      "[CV 1/15] END .................kernel_size=3, num_filters=16; total time=   0.7s\n",
      "[CV 2/15] END .................kernel_size=3, num_filters=16; total time=   0.7s\n",
      "[CV 3/15] END .................kernel_size=3, num_filters=16; total time=   0.7s\n",
      "[CV 4/15] END .................kernel_size=3, num_filters=16; total time=   0.7s\n",
      "[CV 5/15] END .................kernel_size=3, num_filters=16; total time=   0.6s\n",
      "[CV 6/15] END .................kernel_size=3, num_filters=16; total time=   0.7s\n",
      "[CV 7/15] END .................kernel_size=3, num_filters=16; total time=   0.7s\n",
      "[CV 8/15] END .................kernel_size=3, num_filters=16; total time=   0.9s\n",
      "[CV 9/15] END .................kernel_size=3, num_filters=16; total time=   0.7s\n",
      "[CV 10/15] END ................kernel_size=3, num_filters=16; total time=   0.7s\n",
      "[CV 11/15] END ................kernel_size=3, num_filters=16; total time=   0.7s\n",
      "[CV 12/15] END ................kernel_size=3, num_filters=16; total time=   0.7s\n",
      "[CV 13/15] END ................kernel_size=3, num_filters=16; total time=   0.8s\n",
      "[CV 14/15] END ................kernel_size=3, num_filters=16; total time=   0.8s\n",
      "[CV 15/15] END ................kernel_size=3, num_filters=16; total time=   0.8s\n",
      "[CV 1/15] END .................kernel_size=3, num_filters=32; total time=   0.8s\n",
      "[CV 2/15] END .................kernel_size=3, num_filters=32; total time=   0.7s\n",
      "[CV 3/15] END .................kernel_size=3, num_filters=32; total time=   0.7s\n",
      "[CV 4/15] END .................kernel_size=3, num_filters=32; total time=   0.7s\n",
      "[CV 5/15] END .................kernel_size=3, num_filters=32; total time=   0.7s\n",
      "[CV 6/15] END .................kernel_size=3, num_filters=32; total time=   0.8s\n",
      "[CV 7/15] END .................kernel_size=3, num_filters=32; total time=   0.8s\n",
      "[CV 8/15] END .................kernel_size=3, num_filters=32; total time=   0.7s\n",
      "[CV 9/15] END .................kernel_size=3, num_filters=32; total time=   0.7s\n",
      "[CV 10/15] END ................kernel_size=3, num_filters=32; total time=   0.7s\n",
      "[CV 11/15] END ................kernel_size=3, num_filters=32; total time=   0.7s\n",
      "[CV 12/15] END ................kernel_size=3, num_filters=32; total time=   0.9s\n",
      "[CV 13/15] END ................kernel_size=3, num_filters=32; total time=   0.7s\n",
      "[CV 14/15] END ................kernel_size=3, num_filters=32; total time=   0.8s\n",
      "[CV 15/15] END ................kernel_size=3, num_filters=32; total time=   0.9s\n",
      "[CV 1/15] END .................kernel_size=3, num_filters=64; total time=   0.9s\n",
      "[CV 2/15] END .................kernel_size=3, num_filters=64; total time=   0.9s\n",
      "[CV 3/15] END .................kernel_size=3, num_filters=64; total time=   1.2s\n",
      "[CV 4/15] END .................kernel_size=3, num_filters=64; total time=   0.9s\n",
      "[CV 5/15] END .................kernel_size=3, num_filters=64; total time=   0.9s\n",
      "[CV 6/15] END .................kernel_size=3, num_filters=64; total time=   0.9s\n",
      "[CV 7/15] END .................kernel_size=3, num_filters=64; total time=   0.9s\n",
      "[CV 8/15] END .................kernel_size=3, num_filters=64; total time=   0.9s\n",
      "[CV 9/15] END .................kernel_size=3, num_filters=64; total time=   0.9s\n",
      "[CV 10/15] END ................kernel_size=3, num_filters=64; total time=   0.9s\n",
      "[CV 11/15] END ................kernel_size=3, num_filters=64; total time=   0.9s\n",
      "[CV 12/15] END ................kernel_size=3, num_filters=64; total time=   0.9s\n",
      "[CV 13/15] END ................kernel_size=3, num_filters=64; total time=   1.1s\n",
      "[CV 14/15] END ................kernel_size=3, num_filters=64; total time=   1.9s\n",
      "[CV 15/15] END ................kernel_size=3, num_filters=64; total time=   1.0s\n",
      "[CV 1/15] END .................kernel_size=5, num_filters=16; total time=   0.8s\n",
      "[CV 2/15] END .................kernel_size=5, num_filters=16; total time=   0.8s\n",
      "[CV 3/15] END .................kernel_size=5, num_filters=16; total time=   0.8s\n",
      "[CV 4/15] END .................kernel_size=5, num_filters=16; total time=   0.8s\n",
      "[CV 5/15] END .................kernel_size=5, num_filters=16; total time=   0.8s\n",
      "[CV 6/15] END .................kernel_size=5, num_filters=16; total time=   0.7s\n",
      "[CV 7/15] END .................kernel_size=5, num_filters=16; total time=   0.7s\n",
      "[CV 8/15] END .................kernel_size=5, num_filters=16; total time=   0.9s\n",
      "[CV 9/15] END .................kernel_size=5, num_filters=16; total time=   1.0s\n",
      "[CV 10/15] END ................kernel_size=5, num_filters=16; total time=   0.9s\n",
      "[CV 11/15] END ................kernel_size=5, num_filters=16; total time=   1.5s\n",
      "[CV 12/15] END ................kernel_size=5, num_filters=16; total time=   0.9s\n",
      "[CV 13/15] END ................kernel_size=5, num_filters=16; total time=   0.7s\n",
      "[CV 14/15] END ................kernel_size=5, num_filters=16; total time=   0.7s\n",
      "[CV 15/15] END ................kernel_size=5, num_filters=16; total time=   0.8s\n",
      "[CV 1/15] END .................kernel_size=5, num_filters=32; total time=   0.8s\n",
      "[CV 2/15] END .................kernel_size=5, num_filters=32; total time=   0.9s\n",
      "[CV 3/15] END .................kernel_size=5, num_filters=32; total time=   0.8s\n",
      "[CV 4/15] END .................kernel_size=5, num_filters=32; total time=   0.9s\n",
      "[CV 5/15] END .................kernel_size=5, num_filters=32; total time=   0.8s\n",
      "[CV 6/15] END .................kernel_size=5, num_filters=32; total time=   0.8s\n",
      "[CV 7/15] END .................kernel_size=5, num_filters=32; total time=   0.8s\n",
      "[CV 8/15] END .................kernel_size=5, num_filters=32; total time=   0.8s\n",
      "[CV 9/15] END .................kernel_size=5, num_filters=32; total time=   1.1s\n",
      "[CV 10/15] END ................kernel_size=5, num_filters=32; total time=   0.8s\n",
      "[CV 11/15] END ................kernel_size=5, num_filters=32; total time=   0.8s\n",
      "[CV 12/15] END ................kernel_size=5, num_filters=32; total time=   0.9s\n",
      "[CV 13/15] END ................kernel_size=5, num_filters=32; total time=   0.8s\n",
      "[CV 14/15] END ................kernel_size=5, num_filters=32; total time=   0.8s\n",
      "[CV 15/15] END ................kernel_size=5, num_filters=32; total time=   0.8s\n",
      "[CV 1/15] END .................kernel_size=5, num_filters=64; total time=   1.0s\n",
      "[CV 2/15] END .................kernel_size=5, num_filters=64; total time=   1.0s\n",
      "[CV 3/15] END .................kernel_size=5, num_filters=64; total time=   1.0s\n",
      "[CV 4/15] END .................kernel_size=5, num_filters=64; total time=   1.0s\n",
      "[CV 5/15] END .................kernel_size=5, num_filters=64; total time=   1.3s\n",
      "[CV 6/15] END .................kernel_size=5, num_filters=64; total time=   1.0s\n",
      "[CV 7/15] END .................kernel_size=5, num_filters=64; total time=   1.0s\n",
      "[CV 8/15] END .................kernel_size=5, num_filters=64; total time=   1.1s\n",
      "[CV 9/15] END .................kernel_size=5, num_filters=64; total time=   1.0s\n",
      "[CV 10/15] END ................kernel_size=5, num_filters=64; total time=   1.2s\n",
      "[CV 11/15] END ................kernel_size=5, num_filters=64; total time=   1.2s\n",
      "[CV 12/15] END ................kernel_size=5, num_filters=64; total time=   1.2s\n",
      "[CV 13/15] END ................kernel_size=5, num_filters=64; total time=   1.0s\n",
      "[CV 14/15] END ................kernel_size=5, num_filters=64; total time=   1.1s\n",
      "[CV 15/15] END ................kernel_size=5, num_filters=64; total time=   1.1s\n",
      "[CV 1/15] END .................kernel_size=7, num_filters=16; total time=   0.8s\n",
      "[CV 2/15] END .................kernel_size=7, num_filters=16; total time=   1.1s\n",
      "[CV 3/15] END .................kernel_size=7, num_filters=16; total time=   0.8s\n",
      "[CV 4/15] END .................kernel_size=7, num_filters=16; total time=   0.8s\n",
      "[CV 5/15] END .................kernel_size=7, num_filters=16; total time=   0.8s\n",
      "[CV 6/15] END .................kernel_size=7, num_filters=16; total time=   0.8s\n",
      "[CV 7/15] END .................kernel_size=7, num_filters=16; total time=   0.8s\n",
      "[CV 8/15] END .................kernel_size=7, num_filters=16; total time=   0.7s\n",
      "[CV 9/15] END .................kernel_size=7, num_filters=16; total time=   0.7s\n",
      "[CV 10/15] END ................kernel_size=7, num_filters=16; total time=   0.8s\n",
      "[CV 11/15] END ................kernel_size=7, num_filters=16; total time=   0.7s\n"
     ]
    },
    {
     "name": "stdout",
     "output_type": "stream",
     "text": [
      "[CV 12/15] END ................kernel_size=7, num_filters=16; total time=   0.8s\n",
      "[CV 13/15] END ................kernel_size=7, num_filters=16; total time=   0.7s\n",
      "[CV 14/15] END ................kernel_size=7, num_filters=16; total time=   0.8s\n",
      "[CV 15/15] END ................kernel_size=7, num_filters=16; total time=   1.1s\n",
      "[CV 1/15] END .................kernel_size=7, num_filters=32; total time=   0.9s\n",
      "[CV 2/15] END .................kernel_size=7, num_filters=32; total time=   0.9s\n",
      "[CV 3/15] END .................kernel_size=7, num_filters=32; total time=   1.1s\n",
      "[CV 4/15] END .................kernel_size=7, num_filters=32; total time=   0.9s\n",
      "[CV 5/15] END .................kernel_size=7, num_filters=32; total time=   0.9s\n",
      "[CV 6/15] END .................kernel_size=7, num_filters=32; total time=   1.0s\n",
      "[CV 7/15] END .................kernel_size=7, num_filters=32; total time=   1.1s\n",
      "[CV 8/15] END .................kernel_size=7, num_filters=32; total time=   0.9s\n",
      "[CV 9/15] END .................kernel_size=7, num_filters=32; total time=   0.9s\n",
      "[CV 10/15] END ................kernel_size=7, num_filters=32; total time=   1.0s\n",
      "[CV 11/15] END ................kernel_size=7, num_filters=32; total time=   1.3s\n",
      "[CV 12/15] END ................kernel_size=7, num_filters=32; total time=   0.9s\n",
      "[CV 13/15] END ................kernel_size=7, num_filters=32; total time=   0.9s\n",
      "[CV 14/15] END ................kernel_size=7, num_filters=32; total time=   0.9s\n",
      "[CV 15/15] END ................kernel_size=7, num_filters=32; total time=   0.8s\n",
      "[CV 1/15] END .................kernel_size=7, num_filters=64; total time=   1.2s\n",
      "[CV 2/15] END .................kernel_size=7, num_filters=64; total time=   1.2s\n",
      "[CV 3/15] END .................kernel_size=7, num_filters=64; total time=   1.2s\n",
      "[CV 4/15] END .................kernel_size=7, num_filters=64; total time=   1.2s\n",
      "[CV 5/15] END .................kernel_size=7, num_filters=64; total time=   1.2s\n",
      "[CV 6/15] END .................kernel_size=7, num_filters=64; total time=   1.2s\n",
      "[CV 7/15] END .................kernel_size=7, num_filters=64; total time=   1.2s\n",
      "[CV 8/15] END .................kernel_size=7, num_filters=64; total time=   1.5s\n",
      "[CV 9/15] END .................kernel_size=7, num_filters=64; total time=   1.4s\n",
      "[CV 10/15] END ................kernel_size=7, num_filters=64; total time=   1.2s\n",
      "[CV 11/15] END ................kernel_size=7, num_filters=64; total time=   1.3s\n",
      "[CV 12/15] END ................kernel_size=7, num_filters=64; total time=   1.4s\n",
      "[CV 13/15] END ................kernel_size=7, num_filters=64; total time=   1.2s\n",
      "[CV 14/15] END ................kernel_size=7, num_filters=64; total time=   1.2s\n",
      "[CV 15/15] END ................kernel_size=7, num_filters=64; total time=   1.2s\n"
     ]
    }
   ],
   "source": [
    "param_grid = dict(num_filters=[16,32, 64,],\n",
    "                      kernel_size=[3, 5, 7])\n",
    "model = KerasClassifier(build_fn=create_model,\n",
    "                        epochs=10, batch_size=10,\n",
    "                        verbose=False)\n",
    "\n",
    "grid = GridSearchCV(estimator=model,param_grid=param_grid,verbose=4,cv=15,scoring='accuracy',return_train_score=True)\n",
    "grid_result = grid.fit(X, y)"
   ]
  },
  {
   "cell_type": "code",
   "execution_count": 49,
   "id": "de18e92a",
   "metadata": {},
   "outputs": [
    {
     "data": {
      "text/plain": [
       "{'kernel_size': 3, 'num_filters': 32}"
      ]
     },
     "execution_count": 49,
     "metadata": {},
     "output_type": "execute_result"
    }
   ],
   "source": [
    "grid.best_params_"
   ]
  },
  {
   "cell_type": "code",
   "execution_count": 50,
   "id": "f2d979f4",
   "metadata": {},
   "outputs": [],
   "source": [
    "kernel_size = grid.best_params_['kernel_size']\n",
    "num_filters = grid.best_params_['num_filters']"
   ]
  },
  {
   "cell_type": "code",
   "execution_count": 58,
   "id": "8b0787c6",
   "metadata": {},
   "outputs": [],
   "source": [
    "from keras.callbacks import EarlyStopping\n",
    "early_stopping_monitor = EarlyStopping(\n",
    "    monitor='val_accuracy',\n",
    "    min_delta=0,\n",
    "    patience=15,\n",
    "    verbose=0,\n",
    "    mode='auto',\n",
    "    baseline=None,\n",
    "    restore_best_weights=True\n",
    ")"
   ]
  },
  {
   "cell_type": "code",
   "execution_count": 60,
   "id": "2c797a95",
   "metadata": {},
   "outputs": [
    {
     "name": "stdout",
     "output_type": "stream",
     "text": [
      "Epoch 1/15\n",
      "19/19 [==============================] - 0s 7ms/step - loss: 0.6988 - accuracy: 0.4533 - val_loss: 0.6918 - val_accuracy: 0.5000\n",
      "Epoch 2/15\n",
      "19/19 [==============================] - 0s 5ms/step - loss: 0.6752 - accuracy: 0.6067 - val_loss: 0.6899 - val_accuracy: 0.5400\n",
      "Epoch 3/15\n",
      "19/19 [==============================] - 0s 5ms/step - loss: 0.6562 - accuracy: 0.6667 - val_loss: 0.6850 - val_accuracy: 0.5800\n",
      "Epoch 4/15\n",
      "19/19 [==============================] - 0s 4ms/step - loss: 0.6234 - accuracy: 0.7133 - val_loss: 0.6800 - val_accuracy: 0.5600\n",
      "Epoch 5/15\n",
      "19/19 [==============================] - 0s 5ms/step - loss: 0.5822 - accuracy: 0.7533 - val_loss: 0.6731 - val_accuracy: 0.5600\n",
      "Epoch 6/15\n",
      "19/19 [==============================] - 0s 4ms/step - loss: 0.5444 - accuracy: 0.7667 - val_loss: 0.6618 - val_accuracy: 0.6600\n",
      "Epoch 7/15\n",
      "19/19 [==============================] - 0s 4ms/step - loss: 0.5044 - accuracy: 0.8267 - val_loss: 0.6532 - val_accuracy: 0.6600\n",
      "Epoch 8/15\n",
      "19/19 [==============================] - 0s 5ms/step - loss: 0.4575 - accuracy: 0.8800 - val_loss: 0.6490 - val_accuracy: 0.6400\n",
      "Epoch 9/15\n",
      "19/19 [==============================] - 0s 5ms/step - loss: 0.4212 - accuracy: 0.8800 - val_loss: 0.6416 - val_accuracy: 0.6600\n",
      "Epoch 10/15\n",
      "19/19 [==============================] - 0s 5ms/step - loss: 0.3670 - accuracy: 0.9133 - val_loss: 0.6332 - val_accuracy: 0.6600\n",
      "Epoch 11/15\n",
      "19/19 [==============================] - 0s 5ms/step - loss: 0.3341 - accuracy: 0.9400 - val_loss: 0.6261 - val_accuracy: 0.6400\n",
      "Epoch 12/15\n",
      "19/19 [==============================] - 0s 5ms/step - loss: 0.2989 - accuracy: 0.9333 - val_loss: 0.6097 - val_accuracy: 0.7800\n",
      "Epoch 13/15\n",
      "19/19 [==============================] - 0s 4ms/step - loss: 0.2532 - accuracy: 0.9733 - val_loss: 0.6048 - val_accuracy: 0.7400\n",
      "Epoch 14/15\n",
      "19/19 [==============================] - 0s 5ms/step - loss: 0.2216 - accuracy: 0.9733 - val_loss: 0.5994 - val_accuracy: 0.7000\n",
      "Epoch 15/15\n",
      "19/19 [==============================] - 0s 5ms/step - loss: 0.2304 - accuracy: 0.9467 - val_loss: 0.5783 - val_accuracy: 0.7800\n"
     ]
    }
   ],
   "source": [
    "model = create_model(num_filters=num_filters,kernel_size=kernel_size)\n",
    "\n",
    "history = model.fit(x_train,y_train,validation_data=(x_test,y_test),epochs=15,shuffle=True,batch_size=8,callbacks=[early_stopping_monitor])"
   ]
  },
  {
   "cell_type": "code",
   "execution_count": 61,
   "id": "42f71b85",
   "metadata": {},
   "outputs": [
    {
     "name": "stdout",
     "output_type": "stream",
     "text": [
      "Model: \"sequential_555\"\n",
      "_________________________________________________________________\n",
      "Layer (type)                 Output Shape              Param #   \n",
      "=================================================================\n",
      "conv1d_555 (Conv1D)          multiple                  136448    \n",
      "_________________________________________________________________\n",
      "global_max_pooling1d_555 (Gl multiple                  0         \n",
      "_________________________________________________________________\n",
      "dense_1110 (Dense)           multiple                  330       \n",
      "_________________________________________________________________\n",
      "dropout_555 (Dropout)        multiple                  0         \n",
      "_________________________________________________________________\n",
      "dense_1111 (Dense)           multiple                  11        \n",
      "=================================================================\n",
      "Total params: 136,789\n",
      "Trainable params: 136,789\n",
      "Non-trainable params: 0\n",
      "_________________________________________________________________\n"
     ]
    }
   ],
   "source": [
    "model.summary()"
   ]
  },
  {
   "cell_type": "code",
   "execution_count": 62,
   "id": "4785eb5a",
   "metadata": {},
   "outputs": [
    {
     "data": {
      "image/png": "[encoded data removed]",
      "text/plain": [
       "<Figure size 432x288 with 1 Axes>"
      ]
     },
     "metadata": {
      "needs_background": "light"
     },
     "output_type": "display_data"
    }
   ],
   "source": [
    "import keras\n",
    "from matplotlib import pyplot as plt\n",
    "plt.plot(history.history['accuracy'])\n",
    "plt.plot(history.history['val_accuracy'])\n",
    "plt.title('model accuracy')\n",
    "plt.ylabel('accuracy')\n",
    "plt.xlabel('epoch')\n",
    "plt.legend(['train', 'val'], loc='upper left')\n",
    "plt.show()"
   ]
  },
  {
   "cell_type": "code",
   "execution_count": 63,
   "id": "167e65e5",
   "metadata": {},
   "outputs": [
    {
     "data": {
      "image/png": "[encoded data removed]",
      "text/plain": [
       "<Figure size 432x288 with 1 Axes>"
      ]
     },
     "metadata": {
      "needs_background": "light"
     },
     "output_type": "display_data"
    }
   ],
   "source": [
    "plt.plot(history.history['loss'])\n",
    "plt.plot(history.history['val_loss'])\n",
    "plt.title('model loss')\n",
    "plt.ylabel('loss')\n",
    "plt.xlabel('epoch')\n",
    "plt.legend(['train', 'val'], loc='lower left')\n",
    "plt.show()"
   ]
  },
  {
   "cell_type": "code",
   "execution_count": 65,
   "id": "d903bdd2",
   "metadata": {},
   "outputs": [],
   "source": [
    "preds = model.predict_classes(x_test)"
   ]
  },
  {
   "cell_type": "code",
   "execution_count": 67,
   "id": "7eda0bf2",
   "metadata": {},
   "outputs": [],
   "source": [
    "from sklearn.metrics import accuracy_score"
   ]
  },
  {
   "cell_type": "code",
   "execution_count": 69,
   "id": "8d64ef41",
   "metadata": {},
   "outputs": [
    {
     "name": "stdout",
     "output_type": "stream",
     "text": [
      "Accuracy on test data set:0.78\n"
     ]
    }
   ],
   "source": [
    "acc = accuracy_score(y_test,preds)\n",
    "print(f'Accuracy on test data set:{acc}')"
   ]
  },
  {
   "cell_type": "code",
   "execution_count": null,
   "id": "db311930",
   "metadata": {},
   "outputs": [],
   "source": []
  }
 ],
 "metadata": {
  "kernelspec": {
   "display_name": "Python 3",
   "language": "python",
   "name": "python3"
  },
  "language_info": {
   "codemirror_mode": {
    "name": "ipython",
    "version": 3
   },
   "file_extension": ".py",
   "mimetype": "text/x-python",
   "name": "python",
   "nbconvert_exporter": "python",
   "pygments_lexer": "ipython3",
   "version": "3.8.8"
  }
 },
 "nbformat": 4,
 "nbformat_minor": 5
}
